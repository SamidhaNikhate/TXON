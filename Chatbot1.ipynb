{
  "nbformat": 4,
  "nbformat_minor": 0,
  "metadata": {
    "colab": {
      "provenance": [],
      "authorship_tag": "ABX9TyPm2rOkJgodsnrcxk4ef9EE",
      "include_colab_link": true
    },
    "kernelspec": {
      "name": "python3",
      "display_name": "Python 3"
    },
    "language_info": {
      "name": "python"
    }
  },
  "cells": [
    {
      "cell_type": "markdown",
      "metadata": {
        "id": "view-in-github",
        "colab_type": "text"
      },
      "source": [
        "<a href=\"https://colab.research.google.com/github/SamidhaNikhate/TXON/blob/main/Chatbot1.ipynb\" target=\"_parent\"><img src=\"https://colab.research.google.com/assets/colab-badge.svg\" alt=\"Open In Colab\"/></a>"
      ]
    },
    {
      "cell_type": "code",
      "execution_count": 2,
      "metadata": {
        "colab": {
          "base_uri": "https://localhost:8080/"
        },
        "id": "GzcpjC_MRv0L",
        "outputId": "392550f1-26ad-4b72-c895-493b627167d6"
      },
      "outputs": [
        {
          "output_type": "stream",
          "name": "stdout",
          "text": [
            "Hello! I'm your chatbot. Type 'quit' to exit.\n",
            "You: hello\n",
            "Chatbot: Hi there!\n",
            "You: how are you\n",
            "Chatbot: I'm a computer program, but thanks for asking!\n",
            "You: quit\n",
            "Chatbot: Goodbye!\n"
          ]
        }
      ],
      "source": [
        "import spacy\n",
        "from spacy.matcher import Matcher\n",
        "from nltk.chat.util import Chat, reflections\n",
        "\n",
        "# Load spaCy English model\n",
        "nlp = spacy.load(\"en_core_web_sm\")\n",
        "\n",
        "# Define spaCy pattern matcher\n",
        "matcher = Matcher(nlp.vocab)\n",
        "matcher.add(\"greeting\", [[{\"LOWER\": {\"in\": [\"hi\", \"hello\", \"hey\"]}}]])\n",
        "matcher.add(\"how_are_you\", [[{\"LOWER\": \"how\"}, {\"LOWER\": {\"in\": [\"are\", \"do\"]}}, {\"LOWER\": \"you\"}]])\n",
        "matcher.add(\"name\", [[{\"LOWER\": \"your\"}, {\"LOWER\": \"name\"}]])\n",
        "matcher.add(\"age\", [[{\"LOWER\": \"your\"}, {\"LOWER\": \"age\"}]])\n",
        "\n",
        "# Define patterns for NLTK chat\n",
        "patterns = [\n",
        "    (r'quit', ['Goodbye!', 'It was nice chatting with you.']),\n",
        "]\n",
        "\n",
        "# Create a chatbot with defined patterns and reflections\n",
        "chatbot = Chat(patterns, reflections)\n",
        "\n",
        "# Start the conversation\n",
        "print(\"Hello! I'm your chatbot. Type 'quit' to exit.\")\n",
        "while True:\n",
        "    user_input = input(\"You: \")\n",
        "    if user_input.lower() == 'quit':\n",
        "        print(\"Chatbot: Goodbye!\")\n",
        "        break\n",
        "\n",
        "    # Apply spaCy pattern matching\n",
        "    doc = nlp(user_input)\n",
        "    matches = matcher(doc)\n",
        "\n",
        "    # Check for spaCy pattern matches\n",
        "    if any(matches):\n",
        "        for match_id, start, end in matches:\n",
        "            if nlp.vocab.strings[match_id] == \"greeting\":\n",
        "                print(\"Chatbot: Hi there!\")\n",
        "            elif nlp.vocab.strings[match_id] == \"how_are_you\":\n",
        "                print(\"Chatbot: I'm a computer program, but thanks for asking!\")\n",
        "            elif nlp.vocab.strings[match_id] == \"name\":\n",
        "                print(\"Chatbot: You can call me Chatbot.\")\n",
        "            elif nlp.vocab.strings[match_id] == \"age\":\n",
        "                print(\"Chatbot: I don't have an age. I'm just a program.\")\n",
        "            # Add more conditions for additional spaCy patterns\n",
        "\n",
        "    else:\n",
        "        # Use NLTK chatbot for general responses\n",
        "        response = chatbot.respond(user_input)\n",
        "        print(\"Chatbot:\", response)\n"
      ]
    }
  ]
}